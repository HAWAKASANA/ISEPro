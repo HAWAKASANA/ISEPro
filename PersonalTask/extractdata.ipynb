{
 "cells": [
  {
   "cell_type": "markdown",
   "metadata": {
    "id": "MNCZKp2L_CPu"
   },
   "source": [
    "# Industrial Software Engineering Project on Web Browser in google play store"
   ]
  },
  {
   "cell_type": "markdown",
   "metadata": {
    "id": "YbxVh3GoaL3U"
   },
   "source": [
    "In this task we are going to do analisys on the web browser which is the google chrome web browser. for that we are goging to extract the data from google play store using the google play scraper. "
   ]
  },
  {
   "cell_type": "markdown",
   "metadata": {},
   "source": [
    "## Step 1: Extracting the Data of the google chrome web browser from the google play store"
   ]
  },
  {
   "cell_type": "markdown",
   "metadata": {
    "id": "sh76we2YbpMG"
   },
   "source": [
    "### installing the neccessary library"
   ]
  },
  {
   "cell_type": "code",
   "execution_count": 20,
   "metadata": {
    "colab": {
     "base_uri": "https://localhost:8080/"
    },
    "id": "ky88OicMYtbF",
    "outputId": "4b89297f-fa3c-4154-b8f4-b92e99b7bbf4"
   },
   "outputs": [
    {
     "name": "stderr",
     "output_type": "stream",
     "text": [
      "ERROR: Invalid requirement: '#'\n"
     ]
    },
    {
     "name": "stdout",
     "output_type": "stream",
     "text": [
      "Requirement already satisfied: pandas in c:\\programdata\\anaconda3\\lib\\site-packages (1.3.4)\n",
      "Requirement already satisfied: pytz>=2017.3 in c:\\programdata\\anaconda3\\lib\\site-packages (from pandas) (2021.3)\n",
      "Requirement already satisfied: numpy>=1.17.3 in c:\\programdata\\anaconda3\\lib\\site-packages (from pandas) (1.20.3)\n",
      "Requirement already satisfied: python-dateutil>=2.7.3 in c:\\programdata\\anaconda3\\lib\\site-packages (from pandas) (2.8.2)\n",
      "Requirement already satisfied: six>=1.5 in c:\\programdata\\anaconda3\\lib\\site-packages (from python-dateutil>=2.7.3->pandas) (1.16.0)\n",
      "Requirement already satisfied: numpy in c:\\programdata\\anaconda3\\lib\\site-packages (1.20.3)\n"
     ]
    }
   ],
   "source": [
    "! pip install  google_play_scraper  # installing the google play scraper\n",
    "! pip install  pandas\n",
    "! pip install  numpy"
   ]
  },
  {
   "cell_type": "markdown",
   "metadata": {
    "id": "GKXTKrQucDXi"
   },
   "source": [
    "### importing the needed library "
   ]
  },
  {
   "cell_type": "markdown",
   "metadata": {
    "id": "3nsI_7LKsX2N"
   },
   "source": [
    "We need to import some import library to scrape the data from the google play store. So here we are importing some library that used for data extract and manipulate data"
   ]
  },
  {
   "cell_type": "code",
   "execution_count": 21,
   "metadata": {
    "id": "KHwtoWJw4V0U"
   },
   "outputs": [],
   "source": [
    "from google_play_scraper import app, Sort, reviews, reviews_all ,permissions\n",
    "import pandas as pd\n",
    "import numpy as np\n",
    "import json "
   ]
  },
  {
   "cell_type": "markdown",
   "metadata": {
    "id": "aH4-5B1w6-yx"
   },
   "source": [
    "### Extracting the App Details from the google play store"
   ]
  },
  {
   "cell_type": "code",
   "execution_count": 22,
   "metadata": {
    "colab": {
     "base_uri": "https://localhost:8080/"
    },
    "id": "XXIg5cSGsvOr",
    "outputId": "9a4d2821-04d1-4ac7-b68c-3c45b7a1372a"
   },
   "outputs": [
    {
     "name": "stdout",
     "output_type": "stream",
     "text": [
      "{'title': 'Google Chrome: Fast & Secure', 'description': 'Google Chrome is a fast, easy to use, and secure web browser. Designed for Android, Chrome brings you personalized news articles, quick links to your favorite sites, downloads, and Google Search and Google Translate built-in. Download now to enjoy the same Chrome web browser experience you love across all your devices.\\r\\n        \\r\\n        <b>Browse fast and type less.</b> Choose from personalized search results that instantly appear as you type and quickly browse previously visited web pages. Fill in forms quickly with Autofill.\\r\\n        \\r\\n        <b>Incognito Browsing.</b> Use Incognito mode to browse the internet without saving your history. Browse privately across all your devices.\\r\\n        \\r\\n        <b>Sync Chrome Across Devices.</b> When you sign into Chrome, your bookmarks, passwords, and settings will be automatically synced across all your devices. You can seamlessly access all your information from your phone, tablet, or laptop.\\r\\n        \\r\\n        <b>All your favorite content, one tap away.</b> Chrome is not just fast for Google Search, but designed so you are one tap away from all your favorite content. You can tap on your favorite news sites or social media directly from the new tab page. Chrome also has the “Tap to Search”- feature on most webpages. You can tap on any word or phrase to start a Google search while still in the page you are enjoying.\\r\\n        \\r\\n        <b>Protect your phone with Google Safe Browsing.</b> Chrome has Google Safe Browsing built-in. It keeps your phone safe by showing warnings to you when you attempt to navigate to dangerous sites or download dangerous files.\\r\\n        \\r\\n        <b>Fast downloads and view web pages and videos offline</b> Chrome has a dedicated download button, so you can easily download videos, pictures, and entire webpages with just one tap. Chrome also has downloads home right inside Chrome, where you can access all the content you downloaded, even when you are offline.\\r\\n        \\r\\n        <b>Google Voice Search.</b> Chrome gives you an actual web browser you can talk to. Use your voice to find answers on-the-go without typing and go hands free. You can browse and navigate quicker using your voice anywhere, anytime.\\r\\n        \\r\\n        <b>Google Translate built-in: Quickly translate entire web pages.</b> Chrome has Google Translate built in to help you to translate entire web to your own language with one tap.\\r\\n                \\r\\n        <b>Smart personalized recommendations.</b> Chrome creates an experience that is tailored to your interests.  On the new tab page, you will find articles that Chrome selected based on your previous browsing history.', 'descriptionHTML': 'Google Chrome is a fast, easy to use, and secure web browser. Designed for Android, Chrome brings you personalized news articles, quick links to your favorite sites, downloads, and Google Search and Google Translate built-in. Download now to enjoy the same Chrome web browser experience you love across all your devices.<br>        <br>        <b>Browse fast and type less.</b> Choose from personalized search results that instantly appear as you type and quickly browse previously visited web pages. Fill in forms quickly with Autofill.<br>        <br>        <b>Incognito Browsing.</b> Use Incognito mode to browse the internet without saving your history. Browse privately across all your devices.<br>        <br>        <b>Sync Chrome Across Devices.</b> When you sign into Chrome, your bookmarks, passwords, and settings will be automatically synced across all your devices. You can seamlessly access all your information from your phone, tablet, or laptop.<br>        <br>        <b>All your favorite content, one tap away.</b> Chrome is not just fast for Google Search, but designed so you are one tap away from all your favorite content. You can tap on your favorite news sites or social media directly from the new tab page. Chrome also has the “Tap to Search”- feature on most webpages. You can tap on any word or phrase to start a Google search while still in the page you are enjoying.<br>        <br>        <b>Protect your phone with Google Safe Browsing.</b> Chrome has Google Safe Browsing built-in. It keeps your phone safe by showing warnings to you when you attempt to navigate to dangerous sites or download dangerous files.<br>        <br>        <b>Fast downloads and view web pages and videos offline</b> Chrome has a dedicated download button, so you can easily download videos, pictures, and entire webpages with just one tap. Chrome also has downloads home right inside Chrome, where you can access all the content you downloaded, even when you are offline.<br>        <br>        <b>Google Voice Search.</b> Chrome gives you an actual web browser you can talk to. Use your voice to find answers on-the-go without typing and go hands free. You can browse and navigate quicker using your voice anywhere, anytime.<br>        <br>        <b>Google Translate built-in: Quickly translate entire web pages.</b> Chrome has Google Translate built in to help you to translate entire web to your own language with one tap.<br>                <br>        <b>Smart personalized recommendations.</b> Chrome creates an experience that is tailored to your interests.  On the new tab page, you will find articles that Chrome selected based on your previous browsing history.', 'summary': 'Fast, simple, and secure. Google Chrome browser for Android phones and tablets.', 'summaryHTML': 'Fast, simple, and secure. Google Chrome browser for Android phones and tablets.', 'installs': '10,000,000,000+', 'minInstalls': 10000000000, 'score': 4.1615934, 'ratings': 38049519, 'reviews': 882067, 'histogram': [4408119, 1467283, 2537176, 4792249, 24844692], 'price': 0, 'free': True, 'currency': 'USD', 'sale': False, 'saleTime': None, 'originalPrice': None, 'saleText': None, 'offersIAP': False, 'inAppProductPrice': None, 'size': 'Varies with device', 'androidVersion': 'Varies', 'androidVersionText': 'Varies with device', 'developer': 'Google LLC', 'developerId': '5700313618786177705', 'developerEmail': 'apps-help@google.com', 'developerWebsite': 'http://www.google.com/chrome/android', 'developerAddress': '1600 Amphitheatre Parkway, Mountain View 94043', 'privacyPolicy': 'http://www.google.com/chrome/intl/en/privacy.html', 'developerInternalID': '5700313618786177705', 'genre': 'Communication', 'genreId': 'COMMUNICATION', 'icon': 'https://play-lh.googleusercontent.com/KwUBNPbMTk9jDXYS2AeX3illtVRTkrKVh5xR1Mg4WHd0CG2tV4mrh1z3kXi5z_warlk', 'headerImage': 'https://play-lh.googleusercontent.com/WPIJiEaY1kOU3-zogfv11ILu-mCaKhdq7hy2LXZ7JoLFTqGW3ZUXpRCTM7_dvPuBgB0', 'screenshots': ['https://play-lh.googleusercontent.com/zNteEAWnOwZ9rSewvLziSgcK-jApPMf3SouV8e0aaDpSq71IKa82_PSguI63CWEjV2M', 'https://play-lh.googleusercontent.com/lMbdwtu9mb66J9xRxxYH9vtobiZl_cnGfnHhguDkKb9LxJQUAS_UtaYzI8K0NS5QftE', 'https://play-lh.googleusercontent.com/y5GT4zTZ3YXHhv3QtBncGfY2pkhRMI2mKPbCZZFdt6TFWTze2cLXZyg7mB2LK0eFDi0', 'https://play-lh.googleusercontent.com/U9XY-94HuDW-2cxBLFIhi36A4JRt9Ms6dY7ub0Rf3iemw3YQQCobsNauAqDPebdKhuWU', 'https://play-lh.googleusercontent.com/MRZKshNGEi-wVk53EtE9bTp_I-9CgYcs-f_90AZSVEQpCcnTYV46IWSyekPJY25SZg', 'https://play-lh.googleusercontent.com/-QHfi5H3KIRHqdoDCFDnUufTnXEBsEv3XVOBciwG3mbez3VlkLHeYzkyg2RPiFNm2w', 'https://play-lh.googleusercontent.com/vOSF2p-5kGwniGEuEgHosf5OqpDpkgAbgvKSIeFbTQP7l9Lsil66JcBspO3GOgrIfB8', 'https://play-lh.googleusercontent.com/dj-LDG9XEV8JwOCrd83jLE3zQ1SWEV3voBh5PpQp0vJrM_JTFcOq1Ll2mRb6Hws3wScI', 'https://play-lh.googleusercontent.com/Xw_XXywJEKl4M07s5ypywlRXs0AvxN7z_UEFC6tKkouqHrfZhZOVjioia24l9FdoZtw', 'https://play-lh.googleusercontent.com/rww2HBAUfiFAQkMJYXSCxPdyB6Rn5GQOP8AOQdff7MNE8tOwyI64zKv2nAy_GrzsxLE', 'https://play-lh.googleusercontent.com/kF9KmUnlwtt9KYqa6AbF3BhwZp0v9K-4w6084QVVSY8AqL5ZQKC_kQ_WcCMX9hLxEYk', 'https://play-lh.googleusercontent.com/uu_ARWvPuak3dYmbAigXQjQB0KuSRZUKc19uitq1LqZG7IqI3dcy7LOxZoNLQdDD7m0', 'https://play-lh.googleusercontent.com/IfK_gtt2K5WNnQoxF--XaklYaPvgR4SGln9QXycCgeUeB3E_nYb8bzlnAv5rQjPhJZVr', 'https://play-lh.googleusercontent.com/jEM-pd1SnU9jW5qtrsYT3v-6x0pDkZBuEdQ6keK9sA-zMvHUVlixu1ExOPaxe4l95u8'], 'video': None, 'videoImage': None, 'contentRating': 'Everyone', 'contentRatingDescription': None, 'adSupported': None, 'containsAds': False, 'released': 'Feb 7, 2012', 'updated': 1650393064, 'version': 'Varies with device', 'recentChanges': 'Thanks for choosing Chrome! This release includes stability and performance improvements.', 'recentChangesHTML': 'Thanks for choosing Chrome! This release includes stability and performance improvements.', 'comments': [\"I love Google Chrome due to it's easy access, ability to go into desktop mode, etc... But, lately, whenever I attempt at opening Chrome, it's a blank screen for several minutes, and once it does finally load, I can't search up anything. All of my other apps work smoothly, my internet connection is fine. Please fix this. Thank you so much.\", 'At some point in the last couple of months, Chrome has gone nuts. I will be scrolling and everything will be going smoothly, but as soon as I click on a picture or a link, everything freezes, then my phone gives me that \"Chrome is not responding\" notice where I can choose to wait or just close the app. I have tried doing cleanup of data, cache, etc. but that doesn\\'t seem to have made ANY change.', \"I have always used this as my web browser. Never questioned it. However... Recently whenever I'm using another app with this one not even open it opens the app and a webpage. There are different webpages it opens to. I close out the pages and then close the app but it continues to do it.... Alot!! I've tried clearing the cash and whatever else. I've tried to uninstall it but that isn't possible because it was already on the phone.. I really do not want to lose any information linked to chrome.\", \"Can't get rid of white bar along the right side of the browser. Doesn't happen with any other browser. This used to be my fave browser but it just gets worse with no real innovation. Switching to a less intrusive browser that actually works. Also need to get rid of the tabs. It makes it harder to switch between open screens and find the one im looking for. I end up just using multiple windows like before.. Also please provide a better way to organize/delete bookmarks.\", \"I've used this browser for years with minimal problems. It has everything & is fast. The only issue I have with chrome is with the password manager - when it tells you that there's a breach. So, you change the password quickly on the account with the breech but it still shows as a breach and if you've used that password for others, it will show breeches in all those other sites even though there isn't. Make sure you cancel/delete unused accounts.\", \"Uninstalling. It's sad really, worked fine until the last update. Uses so much data now, pop-ups every time I try to do anything. Even turning those options off doesn't even work or aren't available. The app turns the options back on itself. It's so broken now. Absolutely horrible. Oh wait... Apperently, I can't uninstall. What the heck is up with that??? 😡\", \"Chrome has been a so-so browser over the years. I've used it mostly put of habit. It seems I'll be needing to work to consciously change that habit, though, given how horrible the last several updates have mangled this app. I'm constantly getting freezing/crashing, issues scrolling, pages with very little data usage (as in purely text that should have no problem loading on an LTE network, let alone the 5G I have) stuttering and reloading every two seconds. A lot of issues. Fix this, please.\", \"It always freezes my phone up since I have updated it and my phone. Update: I have done all that and cleared the caches and all.. I did make sure it is up to date. Nothing seems to fix it. After reading all these comments it seems that the problem is getting worse with every update. It's like y'all fix one thing and forget about the minor details which is what makes a great app. It's always something with chrome, I like the app but with the freezing and Google results are not showing everything\", 'It refuses to update. I press the button to update and it cancels out every time. Passwords get hacked. I erase all my history yet it still knows where I have been. I have tons of security issues with it. I hate Fi as it is spotty in the same exact place. Chrome wants to own you by having everything Google just like Amazon. It has some major flaws though. I refuse to save payment info and passwords that could cost me if compromised. They need something better and not a monopoly or close to it.', 'In the last month or so Chrome will not load websites or search results, it just hangs there. If I tap on one of the quick results in-line, nothing happens. Only a reboot fixes this temporarily but after the system has been up for an hour or two this problem starts happening. Clearing cache/data hasnt fixed. Have had to use the Samsung browser ugh.', 'The past few days this app hasnt been working very well, if I try to open it. It\\'s just a blank screen and I can\\'t look anything up or it just takes forever to load and as soon as you see things pop up. You get the \"chrome isn\\'t responding\" and let\\'s you choose to close it out or wait, it ran so smoothly before whatever is going on I miss using Google because it\\'s where I get my answers from when I wanna know things. Please try fixing this soon, I\\'ve tried resetting doesn\\'t work...', \"Chrome won't load on Samsung S20fe. All other apps on phone load with no problems. Update 3/29/2022. I started having problems with Chrome on my S20fe a few days ago. I did everything you guys told me to try. Cleared the cache, cleared the data, force stopped the app, and everything else. It didn't work. Today, I got an update notice for Chrome. I updated, but it hasn't worked either. Now, I understand Chrome has some security issues. It makes me wonder. Thanks much. Steve.\", \"I loved Chrome until recently. Somehow, every single day I get an emergency alert to high data usage and high battery usage for Chrome. Last month, our phone bill literally was doubled, with no change in our usage habits. It doesn't matter that I have mobile data turned off; apparently, Chrome is able to override my decisions. The help articles are so convoluted & self-contradictoy. Until this is resolved & simple instructions for doing so are available to us, I am looking for a new browser.\", 'Used to be great, but now... Not so much. It seems to pick up on one keyword and then it just shows you everything except what you are looking for. For example, why would I want to see a bunch of places to buy a ac window unit when all I asked was the best way to get it upstairs?? This applies to pretty much everything I try to search. It gives you everything you don\\'t need, and none of what you do. Firefox or Goduckgo are so much better at \"listening\" and give relevant results.', \"Good everyday browser. Like the bookmar ks though I have lost some when switching phones at times. Of course it is geared towards Google, and at times I have to dig through results to get technical info, but for everyday things it is comparable to other browsers I used. I haven't tried a new one for a few years, and it's 2022, so that should be considered, but some of my bookmarks are so old I don't want to start over honestly.\", \"They took away the ability to swipe suggested articles off the page, and have made what was a top notch product very clumsy and useless. They have removed the back button, so now when you search and click on one of the results and find it didn't answer your question you can't go back you have to search again, it is a sleazy way for them to get more searches, what a waste of time.\", \"Chrome is always my saving grace. Sometimes, I am forced to use another because of associations with other apps or programs that i use with school. Y'all know what I'm talking about! Anyway, it's always a fail. The same routine of problems begin, computer slows, freezes..... You know the routine. Chrome never fails me! I never have any problems with Chrome. Search results are always relevant and dependable as well. I actually feel comfort when switching back. Thank you guys!\", \"I've had absolutely no issue with chrome in all the time I've used it - and yes I remember when it first came out - but this latest update has gotten rid of one of the most convenient things this browser had for the phone! Grouping tabs together and having them in thumbnail format. I have multiple tabs open all the time and having them as little thumbnails made swapping between them extremely easy. And now, with the tabs laid out in a long list, it is extremely irritating to put it mildly.\", 'I typically have no issues with the app, but this update seems to have broken it (though it was fine at first). For a few days now whenever I try to use it, whether clicking a link, opening the app directly, or using the new tab shortcut, it tries to open and then immediately closes, sometimes giving me the \"keeps closing\" pop-up. I downloaded the beta app, but I hate it because it doesn\\'t have tab groups (I\\'m one of the few who love them). Clearing the cache, restarts, etc. have not helped.', \"EDIT: THIS IS AN INFERIOR VERSION OF CHROME. It has so much wrong. It freezes, it force closes at times, and the Bookmark section is a massive downgrade. It's more infuriating than useful. This doesn't allow you to sort bookmarks alphabetically, making it frustrating because all you have is editing names and moving them down. And the worst part is, it's stuck onto your phone without you even approving. If you don't have Chrome, you're in the clear.\", 'This application has crashed nearly 60 times today, after one update. I\\'ve never had any problems with pages randomly failing to load and crashing out of nowhere. Just now, I\\'ve had 27 \"Aw, Snap!\"errors in a row. Earlier, it was over 30. I\\'ve tried restarting both the app and my $1,300 Android phone, and it crashes on practically all sites.', 'I love Google chrome. This has always been my go to on phones and computers. Simple to adjust privacy settings to meet your needs and wants. I love the auto fill for names, address, cards, and passwords I\\'d be lost without chrome. I honestly don\\'t understand the whole \"tab\" problem it\\'s quite easy to use when you know how to use it. Heck I\\'m sure there would probably be 1 or 2 search results if you asked it how to work tabs. Any other browser definitely doesn\\'t compare. Thank you!', 'Chome usually secure has been allowing some type of remote hacking of my accounts. I\\'ve been unable to view my accounts since some messages say \"already logged in\". Other times I get login loops with peculiar cursor movement, like a keylogger. Or the logged in apps shut down so I have to runinstall and reload the app to be able to use it. Also constant issues of Bluetooth turning on, and I constantly have to turn it off. So, I learned this is from cognitive radio technologies using Bluetooth.', 'Fix this update. Ever since update can\\'t use chrome for anything. Won\\'t let you erase words it will do this stuff for example \"freakfreak\" have to reload page numerous times for the page to work and not be frozen. I even uninstalled it and reinstalled it and lost all of my bookmarks and passwords even though I had it to where they were synced with my Google account. Very unhappy', \"At some point recently with updates, something got screwed up because it won't even work for me anymore, just opens to the logo and won't move, or just goes to a black screen. I've cleared the cache and all of that and still no luck. Super frustrating and looking like I'll have to change everything to another browser.\", \"I wanted to give it a 1☆. However, rather than base my review on only the negative (which rn can be quite easy to do) I'm basing it off of the past 8-9 years. I haven't had many problems with it, but this time I was really frustrated. I have memory problems. So I like to keep web pages open (40+ approx. & bookmarks won't help b.c I have to remember which one to look up). Then, after the update all pages & the browser icon are gone. Just an FYI If this happens to you Uninstall and reinstall.\", \"My main issue with Google Chrome is the group tabs feature. The feature itself is great, but if the chrome app decides to lag and you somehow click the x to close out hundreds of tabs, you might have just screwed yourself over. If you have one tab with hundreds of sub-tabs and the undo button decides that is doesn't want to work, you've just lost all of that history. From what I've seen so far, Google doesn't have a group tab recovery. If there's really a fix, I will update this review.l after.\", \"So I have brand new Motorola phone and all the sudden it started opening up by itself to a new tab and it does it all the time now I have ran virus cleaners on it and they've all said there's no virus I'll be doing something and all of a sudden Chrome pops up some page that I haven't even opened before, so I had to disable it because it's a constant. Now I'm going to have to download another browser. pretty disappointed!\", \"I cannot complain about one single feature found within this browser. Perhaps with its automatic autofill and seamless interface with all the other Google apps, capable of accessing all those gazillion bits of data that make using Chrome such a personal experience tailored to your taste and lifestyle, it's easy to overlook everything that it's got under the hood. If I did complain about anything, which I won't because it serves me, it's the fact that it knows me so well and then stores it all.\", \"Chrome is the browser I typically turn to for the important stuff. After latest update I'm getting lots of lag and even crashes on my N10+. I'm sure this is already being addressed. Google is taking leaps and bounds in tightening things up while keeping true to an open source platform.\", 'When you download something it doesnt stores it on your default downloads instead in a very deep folder of your device wich isnt findable by your device and only can be accessed with root for example any audio doesnt show in the music reproducer. Garbage! Every file you download its corrupt. This app is totally SHIIIIIT. Also it all the time freezes without a reason.', \"Majority of sites keep loading weird (not adjusting to mobile phone)- requiring me to enable desktop view to actually read the full sentences and access the entire page... other sites don't load properly, glitch, take a long time (everything else including other browsers work fine, and internet/ data is good), or don't load at all. I have used Chrome for years- this has been recent over the last few months.. Assumed it was just me until seeing others have mentioned the same issues...\", \"I prefer Google to any other browser because of its cross platform compatibility. My only complaint is that the grouped tabs feature seems to come and go, currently it's not grouped and it's frustrating because I have a lot of tabs I keep open at once (60 currently) and I love being able to group them for ease of use. Please fix this feature and make it stable.\", \"It serves a most unusual purpose.. for Me. But it's perfect for what I want it for. Excellent work Software/Cyber Security/ QC Teams. Could you add a way where when I connect 2nd acc. to chrome it has a setting to block all cookies entirely. I only require Bookmarks, and theme preferences, AND auto import of my extensions. Love this app. Perhaps ponder with a group brainstorming session into just how amenities can be implemented. Like I want no trace when I use this app. I'm super introverted;)\", 'Keeps crashing now. Especially when creating new tabs or switching back and forth between tabs. It like the tab box where you type gets sucked up into the top part of the screen where the time, battery percentage and data connection icons are. When that happens you must close everything. Can be immensely frustrating and inefficient for both work and casual web browsing. In all honesty, this sucks and had not been an issue until around January 2022.', \"The settings they allow you to modify to keep your privacy are extremely limited, and based on Google overall TOS they can still record, track, analyze, and de-anonamize you and every action you take while using Chrome. Because of this, I only use Chrome when I am accessing content that I specifically want Google to associate. If it wasn't for the convenience of the new tabbed browsing I wouldn't use Chrome at all except out of absolute necessity. Please add a truly anonymous browsing option!\", \"I just lost the hundreds of tabs I had open. I never had this happen. I have no way to get them back without going through SEVEN months of browser history. On my phone. At least my computer has an extension that saves open tabs, I don't lose anything when Chrome crashes there. Whatever update was just done, needs fixed. Trust me, I did not intentionally nor accidentally close all the tabs.\", 'When on a webpage, the page keeps jumping upwards (twrds top of the pg) in the script I\\'m reading. Seems to have something to do with ads placed on the webpage bc whenever I get to an ad showing \"on the screen\", the page is steady. However, once I scroll PAST the ad, the screen continuously jumps back upward & will continue to do so until the previous, or next ad, appears \"on the screen\". PLEASE fix this!! Aggrevating!!', 'Chrome has been draining the battery on my Samsung Galaxy S3 tablet at a very high rate since the 1/19/22 update. It also refuses to \"force stop\" now, is very slow to respond (takes easily 5 times as long to open web pages), and has a drop down banner every time I download something that stays on the screen for 30 seconds and covers the address bar making the app completely useless. Please fix this immediately. I really don\\'t want to have to make the switch to iPad!', \"Update! It would be so incredible and crazy useful if a user could search for a specific open tab. Using search in History or Cache, it just doesn't give the results needed. It opens a new tab instead of taking the user to the tab or group of tabs for which you're looking. I have several tabs open & grouped together in multiple windows. It's very time consuming to search out a specific tab in a specific window. HELP! 10/30/19 Love Google chrome! I don't use anything else. It's really good.\"], 'editorsChoice': False, 'similarApps': ['com.sec.android.app.sbrowser', 'com.chrome.beta', 'org.mozilla.firefox', 'com.opera.mini.native', 'com.opera.browser'], 'moreByDeveloper': None, 'appId': 'com.android.chrome', 'url': 'https://play.google.com/store/apps/details?id=com.android.chrome&hl=en&gl=us'}\n",
      "<class 'dict'>\n"
     ]
    },
    {
     "name": "stdout",
     "output_type": "stream",
     "text": [
      "                  app detail  \\\n",
      "0                      title   \n",
      "1                description   \n",
      "2            descriptionHTML   \n",
      "3                    summary   \n",
      "4                summaryHTML   \n",
      "5                   installs   \n",
      "6                minInstalls   \n",
      "7                      score   \n",
      "8                    ratings   \n",
      "9                    reviews   \n",
      "10                 histogram   \n",
      "11                     price   \n",
      "12                      free   \n",
      "13                  currency   \n",
      "14                      sale   \n",
      "15                  saleTime   \n",
      "16             originalPrice   \n",
      "17                  saleText   \n",
      "18                 offersIAP   \n",
      "19         inAppProductPrice   \n",
      "20                      size   \n",
      "21            androidVersion   \n",
      "22        androidVersionText   \n",
      "23                 developer   \n",
      "24               developerId   \n",
      "25            developerEmail   \n",
      "26          developerWebsite   \n",
      "27          developerAddress   \n",
      "28             privacyPolicy   \n",
      "29       developerInternalID   \n",
      "30                     genre   \n",
      "31                   genreId   \n",
      "32                      icon   \n",
      "33               headerImage   \n",
      "34               screenshots   \n",
      "35                     video   \n",
      "36                videoImage   \n",
      "37             contentRating   \n",
      "38  contentRatingDescription   \n",
      "39               adSupported   \n",
      "40               containsAds   \n",
      "41                  released   \n",
      "42                   updated   \n",
      "43                   version   \n",
      "44             recentChanges   \n",
      "45         recentChangesHTML   \n",
      "46                  comments   \n",
      "47             editorsChoice   \n",
      "48               similarApps   \n",
      "49           moreByDeveloper   \n",
      "50                     appId   \n",
      "51                       url   \n",
      "\n",
      "                                                value  \n",
      "0                        Google Chrome: Fast & Secure  \n",
      "1   Google Chrome is a fast, easy to use, and secu...  \n",
      "2   Google Chrome is a fast, easy to use, and secu...  \n",
      "3   Fast, simple, and secure. Google Chrome browse...  \n",
      "4   Fast, simple, and secure. Google Chrome browse...  \n",
      "5                                     10,000,000,000+  \n",
      "6                                         10000000000  \n",
      "7                                            4.161593  \n",
      "8                                            38049519  \n",
      "9                                              882067  \n",
      "10     [4408119, 1467283, 2537176, 4792249, 24844692]  \n",
      "11                                                  0  \n",
      "12                                               True  \n",
      "13                                                USD  \n",
      "14                                              False  \n",
      "15                                               None  \n",
      "16                                               None  \n",
      "17                                               None  \n",
      "18                                              False  \n",
      "19                                               None  \n",
      "20                                 Varies with device  \n",
      "21                                             Varies  \n",
      "22                                 Varies with device  \n",
      "23                                         Google LLC  \n",
      "24                                5700313618786177705  \n",
      "25                               apps-help@google.com  \n",
      "26               http://www.google.com/chrome/android  \n",
      "27     1600 Amphitheatre Parkway, Mountain View 94043  \n",
      "28  http://www.google.com/chrome/intl/en/privacy.html  \n",
      "29                                5700313618786177705  \n",
      "30                                      Communication  \n",
      "31                                      COMMUNICATION  \n",
      "32  https://play-lh.googleusercontent.com/KwUBNPbM...  \n",
      "33  https://play-lh.googleusercontent.com/WPIJiEaY...  \n",
      "34  [https://play-lh.googleusercontent.com/zNteEAW...  \n",
      "35                                               None  \n",
      "36                                               None  \n",
      "37                                           Everyone  \n",
      "38                                               None  \n",
      "39                                               None  \n",
      "40                                              False  \n",
      "41                                        Feb 7, 2012  \n",
      "42                                         1650393064  \n",
      "43                                 Varies with device  \n",
      "44  Thanks for choosing Chrome! This release inclu...  \n",
      "45  Thanks for choosing Chrome! This release inclu...  \n",
      "46  [I love Google Chrome due to it's easy access,...  \n",
      "47                                              False  \n",
      "48  [com.sec.android.app.sbrowser, com.chrome.beta...  \n",
      "49                                               None  \n",
      "50                                 com.android.chrome  \n",
      "51  https://play.google.com/store/apps/details?id=...  \n",
      "<class 'pandas.core.frame.DataFrame'>\n"
     ]
    }
   ],
   "source": [
    "#Extractin the app details \n",
    "data = app('com.android.chrome',\n",
    "             lang='en',\n",
    "             country = 'us')\n",
    "\n",
    "print(data)\n",
    "print(type(data))\n",
    "\n",
    "#Making the DataFrame of extracted data \n",
    "appdata = pd.DataFrame(list(data.items()),columns = ['app detail','value'])\n",
    "\n",
    "print(appdata)\n",
    "print(type(appdata))\n",
    "\n",
    "appdata.to_csv('appdata.csv',index=True)\n",
    "\n"
   ]
  },
  {
   "cell_type": "markdown",
   "metadata": {
    "id": "20hAB8O97btb"
   },
   "source": [
    "### Extracting Permission Details of the Chrome Browser "
   ]
  },
  {
   "cell_type": "code",
   "execution_count": 23,
   "metadata": {
    "colab": {
     "base_uri": "https://localhost:8080/"
    },
    "id": "hnaXSQgQ7mOf",
    "outputId": "1c96aeff-bba3-4a26-ed1b-f5235b19fbbe"
   },
   "outputs": [
    {
     "name": "stdout",
     "output_type": "stream",
     "text": [
      "                  PermissionType  \\\n",
      "0                     Microphone   \n",
      "1   Wi-Fi connection information   \n",
      "2                       Contacts   \n",
      "3                       Identity   \n",
      "4                       Location   \n",
      "5   Device ID & call information   \n",
      "6             Photos/Media/Files   \n",
      "7                          Phone   \n",
      "8           Device & app history   \n",
      "9                        Storage   \n",
      "10                        Camera   \n",
      "11                         Other   \n",
      "12                 Uncategorized   \n",
      "\n",
      "                                                Value  \n",
      "0                                      [record audio]  \n",
      "1                            [view Wi-Fi connections]  \n",
      "2   [find accounts on the device, read your contacts]  \n",
      "3   [add or remove accounts, find accounts on the ...  \n",
      "4   [approximate location (network-based), precise...  \n",
      "5                    [read phone status and identity]  \n",
      "6   [modify or delete the contents of your USB sto...  \n",
      "7                    [read phone status and identity]  \n",
      "8               [read your Web bookmarks and history]  \n",
      "9   [modify or delete the contents of your USB sto...  \n",
      "10                         [take pictures and videos]  \n",
      "11  [access Bluetooth settings, change network con...  \n",
      "12  [download files without notification, read syn...  \n",
      "<class 'pandas.core.frame.DataFrame'>\n"
     ]
    }
   ],
   "source": [
    "#Extracting the application Permissions Details\n",
    "permissiondata = permissions('com.android.chrome',\n",
    "                             lang='en',\n",
    "                             country='us')\n",
    "\n",
    "permissionsdetails=pd.DataFrame(list(permissiondata.items()), columns= ['PermissionType','Value'])\n",
    "print(permissionsdetails)\n",
    "print(type(permissionsdetails))\n",
    "\n",
    "permissionsdetails.to_csv('Permission.csv',index=True)\n"
   ]
  },
  {
   "cell_type": "markdown",
   "metadata": {
    "id": "YYhk-ELX718V"
   },
   "source": [
    "### Extracting the review of the apps using google-play-scrapper"
   ]
  },
  {
   "cell_type": "code",
   "execution_count": 24,
   "metadata": {
    "colab": {
     "base_uri": "https://localhost:8080/"
    },
    "id": "q-BrbBNR8Dxh",
    "outputId": "f0b87bfc-c734-4021-8f33-e00c322758df"
   },
   "outputs": [
    {
     "name": "stdout",
     "output_type": "stream",
     "text": [
      "<class 'list'>\n"
     ]
    }
   ],
   "source": [
    "#Extracting the reviews of the apps\n",
    "result, continuation_token = reviews('com.android.chrome',\n",
    "    lang = 'en',\n",
    "    country = 'us',\n",
    "    sort = Sort.MOST_RELEVANT,\n",
    "    count = 100000,\n",
    "    )\n",
    "\n",
    "\n",
    "print(type(result))\n",
    "\n",
    "reviews = pd.DataFrame(result)\n",
    "\n",
    "#storing the app reviews details\n",
    "reviews.to_csv('Appreview.csv',index=True)\n",
    "\n"
   ]
  },
  {
   "cell_type": "markdown",
   "metadata": {},
   "source": [
    "### Storing Extracting the review column of the reviews from the file Appreview.csv"
   ]
  },
  {
   "cell_type": "code",
   "execution_count": 27,
   "metadata": {},
   "outputs": [
    {
     "name": "stdout",
     "output_type": "stream",
     "text": [
      "0    I love Google Chrome due to it's easy access, ...\n",
      "1    At some point in the last couple of months, Ch...\n",
      "2    I have always used this as my web browser. Nev...\n",
      "3    Can't get rid of white bar along the right sid...\n",
      "4    I've used this browser for years with minimal ...\n",
      "Name: content, dtype: object\n"
     ]
    }
   ],
   "source": [
    "readData = pd.read_csv('Appreview.csv')\n",
    "\n",
    "# Taking only 100000 reviews deatails from the file\n",
    "required = readData.head(100000)\n",
    "\n",
    "# Taking only reviews column from the 100000  reviews details\n",
    "review = required['content']\n",
    "\n",
    "#saving the reviews into new files named Reviews.csv\n",
    "\n",
    "review.to_csv('Reviews.csv',index=True)\n",
    "\n",
    "print(review.head())\n",
    "\n"
   ]
  },
  {
   "cell_type": "markdown",
   "metadata": {},
   "source": [
    "# Step 2: Cleaning and Processing the data"
   ]
  },
  {
   "cell_type": "markdown",
   "metadata": {},
   "source": [
    "### Converting into lower case word of the reviews "
   ]
  },
  {
   "cell_type": "code",
   "execution_count": 83,
   "metadata": {},
   "outputs": [
    {
     "data": {
      "text/html": [
       "<div>\n",
       "<style scoped>\n",
       "    .dataframe tbody tr th:only-of-type {\n",
       "        vertical-align: middle;\n",
       "    }\n",
       "\n",
       "    .dataframe tbody tr th {\n",
       "        vertical-align: top;\n",
       "    }\n",
       "\n",
       "    .dataframe thead th {\n",
       "        text-align: right;\n",
       "    }\n",
       "</style>\n",
       "<table border=\"1\" class=\"dataframe\">\n",
       "  <thead>\n",
       "    <tr style=\"text-align: right;\">\n",
       "      <th></th>\n",
       "      <th>Unnamed: 0</th>\n",
       "      <th>content</th>\n",
       "      <th>lowercase</th>\n",
       "    </tr>\n",
       "  </thead>\n",
       "  <tbody>\n",
       "    <tr>\n",
       "      <th>0</th>\n",
       "      <td>0</td>\n",
       "      <td>I love Google Chrome due to it's easy access, ...</td>\n",
       "      <td>i love google chrome due to it's easy access, ...</td>\n",
       "    </tr>\n",
       "    <tr>\n",
       "      <th>1</th>\n",
       "      <td>1</td>\n",
       "      <td>At some point in the last couple of months, Ch...</td>\n",
       "      <td>at some point in the last couple of months, ch...</td>\n",
       "    </tr>\n",
       "    <tr>\n",
       "      <th>2</th>\n",
       "      <td>2</td>\n",
       "      <td>I have always used this as my web browser. Nev...</td>\n",
       "      <td>i have always used this as my web browser. nev...</td>\n",
       "    </tr>\n",
       "    <tr>\n",
       "      <th>3</th>\n",
       "      <td>3</td>\n",
       "      <td>Can't get rid of white bar along the right sid...</td>\n",
       "      <td>can't get rid of white bar along the right sid...</td>\n",
       "    </tr>\n",
       "    <tr>\n",
       "      <th>4</th>\n",
       "      <td>4</td>\n",
       "      <td>I've used this browser for years with minimal ...</td>\n",
       "      <td>i've used this browser for years with minimal ...</td>\n",
       "    </tr>\n",
       "  </tbody>\n",
       "</table>\n",
       "</div>"
      ],
      "text/plain": [
       "   Unnamed: 0                                            content  \\\n",
       "0           0  I love Google Chrome due to it's easy access, ...   \n",
       "1           1  At some point in the last couple of months, Ch...   \n",
       "2           2  I have always used this as my web browser. Nev...   \n",
       "3           3  Can't get rid of white bar along the right sid...   \n",
       "4           4  I've used this browser for years with minimal ...   \n",
       "\n",
       "                                           lowercase  \n",
       "0  i love google chrome due to it's easy access, ...  \n",
       "1  at some point in the last couple of months, ch...  \n",
       "2  i have always used this as my web browser. nev...  \n",
       "3  can't get rid of white bar along the right sid...  \n",
       "4  i've used this browser for years with minimal ...  "
      ]
     },
     "execution_count": 83,
     "metadata": {},
     "output_type": "execute_result"
    }
   ],
   "source": [
    "# Read the into dataframe from the Reviews.csv file\n",
    "reviewData = pd.read_csv(\"Reviews.csv\")\n",
    "\n",
    "# Change the words in the lower case \n",
    "reviewData['lowercase'] = reviewData['content'].apply(lambda x: \" \".join(word.lower() for word in x.split()))\n",
    "reviewData.head()\n",
    "\n"
   ]
  },
  {
   "cell_type": "markdown",
   "metadata": {},
   "source": [
    "### Removing the punctuation and the space in the reviews data and remained only words"
   ]
  },
  {
   "cell_type": "code",
   "execution_count": 84,
   "metadata": {},
   "outputs": [
    {
     "name": "stderr",
     "output_type": "stream",
     "text": [
      "C:\\Users\\hawak\\AppData\\Local\\Temp/ipykernel_9144/2585964702.py:2: FutureWarning: The default value of regex will change from True to False in a future version.\n",
      "  reviewData['punctuation'] = reviewData['lowercase'].str.replace('[^\\w\\s]',' ')\n"
     ]
    },
    {
     "data": {
      "text/html": [
       "<div>\n",
       "<style scoped>\n",
       "    .dataframe tbody tr th:only-of-type {\n",
       "        vertical-align: middle;\n",
       "    }\n",
       "\n",
       "    .dataframe tbody tr th {\n",
       "        vertical-align: top;\n",
       "    }\n",
       "\n",
       "    .dataframe thead th {\n",
       "        text-align: right;\n",
       "    }\n",
       "</style>\n",
       "<table border=\"1\" class=\"dataframe\">\n",
       "  <thead>\n",
       "    <tr style=\"text-align: right;\">\n",
       "      <th></th>\n",
       "      <th>Unnamed: 0</th>\n",
       "      <th>content</th>\n",
       "      <th>lowercase</th>\n",
       "      <th>punctuation</th>\n",
       "    </tr>\n",
       "  </thead>\n",
       "  <tbody>\n",
       "    <tr>\n",
       "      <th>0</th>\n",
       "      <td>0</td>\n",
       "      <td>I love Google Chrome due to it's easy access, ...</td>\n",
       "      <td>i love google chrome due to it's easy access, ...</td>\n",
       "      <td>i love google chrome due to it s easy access  ...</td>\n",
       "    </tr>\n",
       "    <tr>\n",
       "      <th>1</th>\n",
       "      <td>1</td>\n",
       "      <td>At some point in the last couple of months, Ch...</td>\n",
       "      <td>at some point in the last couple of months, ch...</td>\n",
       "      <td>at some point in the last couple of months  ch...</td>\n",
       "    </tr>\n",
       "    <tr>\n",
       "      <th>2</th>\n",
       "      <td>2</td>\n",
       "      <td>I have always used this as my web browser. Nev...</td>\n",
       "      <td>i have always used this as my web browser. nev...</td>\n",
       "      <td>i have always used this as my web browser  nev...</td>\n",
       "    </tr>\n",
       "    <tr>\n",
       "      <th>3</th>\n",
       "      <td>3</td>\n",
       "      <td>Can't get rid of white bar along the right sid...</td>\n",
       "      <td>can't get rid of white bar along the right sid...</td>\n",
       "      <td>can t get rid of white bar along the right sid...</td>\n",
       "    </tr>\n",
       "    <tr>\n",
       "      <th>4</th>\n",
       "      <td>4</td>\n",
       "      <td>I've used this browser for years with minimal ...</td>\n",
       "      <td>i've used this browser for years with minimal ...</td>\n",
       "      <td>i ve used this browser for years with minimal ...</td>\n",
       "    </tr>\n",
       "  </tbody>\n",
       "</table>\n",
       "</div>"
      ],
      "text/plain": [
       "   Unnamed: 0                                            content  \\\n",
       "0           0  I love Google Chrome due to it's easy access, ...   \n",
       "1           1  At some point in the last couple of months, Ch...   \n",
       "2           2  I have always used this as my web browser. Nev...   \n",
       "3           3  Can't get rid of white bar along the right sid...   \n",
       "4           4  I've used this browser for years with minimal ...   \n",
       "\n",
       "                                           lowercase  \\\n",
       "0  i love google chrome due to it's easy access, ...   \n",
       "1  at some point in the last couple of months, ch...   \n",
       "2  i have always used this as my web browser. nev...   \n",
       "3  can't get rid of white bar along the right sid...   \n",
       "4  i've used this browser for years with minimal ...   \n",
       "\n",
       "                                         punctuation  \n",
       "0  i love google chrome due to it s easy access  ...  \n",
       "1  at some point in the last couple of months  ch...  \n",
       "2  i have always used this as my web browser  nev...  \n",
       "3  can t get rid of white bar along the right sid...  \n",
       "4  i ve used this browser for years with minimal ...  "
      ]
     },
     "execution_count": 84,
     "metadata": {},
     "output_type": "execute_result"
    }
   ],
   "source": [
    "# Removing the punctuation from the data\n",
    "reviewData['punctuation'] = reviewData['lowercase'].str.replace('[^\\w\\s]',' ')\n",
    "reviewData.head()"
   ]
  },
  {
   "cell_type": "markdown",
   "metadata": {},
   "source": [
    "### Removing the stop words from the reviews"
   ]
  },
  {
   "cell_type": "code",
   "execution_count": 93,
   "metadata": {},
   "outputs": [
    {
     "name": "stdout",
     "output_type": "stream",
     "text": [
      "Requirement already satisfied: nltk in c:\\programdata\\anaconda3\\lib\\site-packages (3.6.5)\n",
      "Requirement already satisfied: click in c:\\programdata\\anaconda3\\lib\\site-packages (from nltk) (8.0.3)\n",
      "Requirement already satisfied: joblib in c:\\programdata\\anaconda3\\lib\\site-packages (from nltk) (1.1.0)\n",
      "Requirement already satisfied: regex>=2021.8.3 in c:\\programdata\\anaconda3\\lib\\site-packages (from nltk) (2021.8.3)\n",
      "Requirement already satisfied: tqdm in c:\\programdata\\anaconda3\\lib\\site-packages (from nltk) (4.62.3)\n",
      "Requirement already satisfied: colorama in c:\\programdata\\anaconda3\\lib\\site-packages (from click->nltk) (0.4.4)\n"
     ]
    },
    {
     "name": "stderr",
     "output_type": "stream",
     "text": [
      "[nltk_data] Downloading package stopwords to\n",
      "[nltk_data]     C:\\Users\\hawak\\AppData\\Roaming\\nltk_data...\n",
      "[nltk_data]   Package stopwords is already up-to-date!\n",
      "[nltk_data] Downloading package wordnet to\n",
      "[nltk_data]     C:\\Users\\hawak\\AppData\\Roaming\\nltk_data...\n",
      "[nltk_data]   Unzipping corpora\\wordnet.zip.\n"
     ]
    }
   ],
   "source": [
    "# install the nltk library\n",
    "! pip install nltk\n",
    "\n",
    "import nltk\n",
    "\n",
    "# Download the stopwords\n",
    "nltk.download('stopwords')\n",
    "nltk.download('wordnet')\n",
    "\n",
    "# importing the stopword library\n",
    "\n",
    "from nltk.corpus import stopwords"
   ]
  },
  {
   "cell_type": "code",
   "execution_count": 94,
   "metadata": {},
   "outputs": [
    {
     "name": "stdout",
     "output_type": "stream",
     "text": [
      "['i', 'me', 'my', 'myself', 'we', 'our', 'ours', 'ourselves', 'you', \"you're\", \"you've\", \"you'll\", \"you'd\", 'your', 'yours', 'yourself', 'yourselves', 'he', 'him', 'his', 'himself', 'she', \"she's\", 'her', 'hers', 'herself', 'it', \"it's\", 'its', 'itself', 'they', 'them', 'their', 'theirs', 'themselves', 'what', 'which', 'who', 'whom', 'this', 'that', \"that'll\", 'these', 'those', 'am', 'is', 'are', 'was', 'were', 'be', 'been', 'being', 'have', 'has', 'had', 'having', 'do', 'does', 'did', 'doing', 'a', 'an', 'the', 'and', 'but', 'if', 'or', 'because', 'as', 'until', 'while', 'of', 'at', 'by', 'for', 'with', 'about', 'against', 'between', 'into', 'through', 'during', 'before', 'after', 'above', 'below', 'to', 'from', 'up', 'down', 'in', 'out', 'on', 'off', 'over', 'under', 'again', 'further', 'then', 'once', 'here', 'there', 'when', 'where', 'why', 'how', 'all', 'any', 'both', 'each', 'few', 'more', 'most', 'other', 'some', 'such', 'no', 'nor', 'not', 'only', 'own', 'same', 'so', 'than', 'too', 'very', 's', 't', 'can', 'will', 'just', 'don', \"don't\", 'should', \"should've\", 'now', 'd', 'll', 'm', 'o', 're', 've', 'y', 'ain', 'aren', \"aren't\", 'couldn', \"couldn't\", 'didn', \"didn't\", 'doesn', \"doesn't\", 'hadn', \"hadn't\", 'hasn', \"hasn't\", 'haven', \"haven't\", 'isn', \"isn't\", 'ma', 'mightn', \"mightn't\", 'mustn', \"mustn't\", 'needn', \"needn't\", 'shan', \"shan't\", 'shouldn', \"shouldn't\", 'wasn', \"wasn't\", 'weren', \"weren't\", 'won', \"won't\", 'wouldn', \"wouldn't\"]\n"
     ]
    },
    {
     "data": {
      "text/html": [
       "<div>\n",
       "<style scoped>\n",
       "    .dataframe tbody tr th:only-of-type {\n",
       "        vertical-align: middle;\n",
       "    }\n",
       "\n",
       "    .dataframe tbody tr th {\n",
       "        vertical-align: top;\n",
       "    }\n",
       "\n",
       "    .dataframe thead th {\n",
       "        text-align: right;\n",
       "    }\n",
       "</style>\n",
       "<table border=\"1\" class=\"dataframe\">\n",
       "  <thead>\n",
       "    <tr style=\"text-align: right;\">\n",
       "      <th></th>\n",
       "      <th>Unnamed: 0</th>\n",
       "      <th>content</th>\n",
       "      <th>lowercase</th>\n",
       "      <th>punctuation</th>\n",
       "      <th>stop_word</th>\n",
       "      <th>ProcessedData</th>\n",
       "    </tr>\n",
       "  </thead>\n",
       "  <tbody>\n",
       "    <tr>\n",
       "      <th>0</th>\n",
       "      <td>0</td>\n",
       "      <td>I love Google Chrome due to it's easy access, ...</td>\n",
       "      <td>i love google chrome due to it's easy access, ...</td>\n",
       "      <td>i love google chrome due to it s easy access  ...</td>\n",
       "      <td>love google chrome due easy access ability go ...</td>\n",
       "      <td>love google chrome due easy access ability des...</td>\n",
       "    </tr>\n",
       "    <tr>\n",
       "      <th>1</th>\n",
       "      <td>1</td>\n",
       "      <td>At some point in the last couple of months, Ch...</td>\n",
       "      <td>at some point in the last couple of months, ch...</td>\n",
       "      <td>at some point in the last couple of months  ch...</td>\n",
       "      <td>point last couple months chrome gone nuts scro...</td>\n",
       "      <td>point last couple months chrome gone nuts scro...</td>\n",
       "    </tr>\n",
       "    <tr>\n",
       "      <th>2</th>\n",
       "      <td>2</td>\n",
       "      <td>I have always used this as my web browser. Nev...</td>\n",
       "      <td>i have always used this as my web browser. nev...</td>\n",
       "      <td>i have always used this as my web browser  nev...</td>\n",
       "      <td>always used web browser never questioned howev...</td>\n",
       "      <td>always used web browser never questioned howev...</td>\n",
       "    </tr>\n",
       "    <tr>\n",
       "      <th>3</th>\n",
       "      <td>3</td>\n",
       "      <td>Can't get rid of white bar along the right sid...</td>\n",
       "      <td>can't get rid of white bar along the right sid...</td>\n",
       "      <td>can t get rid of white bar along the right sid...</td>\n",
       "      <td>get rid white bar along right side browser hap...</td>\n",
       "      <td>rid white bar along side browser happen browse...</td>\n",
       "    </tr>\n",
       "    <tr>\n",
       "      <th>4</th>\n",
       "      <td>4</td>\n",
       "      <td>I've used this browser for years with minimal ...</td>\n",
       "      <td>i've used this browser for years with minimal ...</td>\n",
       "      <td>i ve used this browser for years with minimal ...</td>\n",
       "      <td>used browser years minimal problems everything...</td>\n",
       "      <td>used browser years minimal problems everything...</td>\n",
       "    </tr>\n",
       "  </tbody>\n",
       "</table>\n",
       "</div>"
      ],
      "text/plain": [
       "   Unnamed: 0                                            content  \\\n",
       "0           0  I love Google Chrome due to it's easy access, ...   \n",
       "1           1  At some point in the last couple of months, Ch...   \n",
       "2           2  I have always used this as my web browser. Nev...   \n",
       "3           3  Can't get rid of white bar along the right sid...   \n",
       "4           4  I've used this browser for years with minimal ...   \n",
       "\n",
       "                                           lowercase  \\\n",
       "0  i love google chrome due to it's easy access, ...   \n",
       "1  at some point in the last couple of months, ch...   \n",
       "2  i have always used this as my web browser. nev...   \n",
       "3  can't get rid of white bar along the right sid...   \n",
       "4  i've used this browser for years with minimal ...   \n",
       "\n",
       "                                         punctuation  \\\n",
       "0  i love google chrome due to it s easy access  ...   \n",
       "1  at some point in the last couple of months  ch...   \n",
       "2  i have always used this as my web browser  nev...   \n",
       "3  can t get rid of white bar along the right sid...   \n",
       "4  i ve used this browser for years with minimal ...   \n",
       "\n",
       "                                           stop_word  \\\n",
       "0  love google chrome due easy access ability go ...   \n",
       "1  point last couple months chrome gone nuts scro...   \n",
       "2  always used web browser never questioned howev...   \n",
       "3  get rid white bar along right side browser hap...   \n",
       "4  used browser years minimal problems everything...   \n",
       "\n",
       "                                       ProcessedData  \n",
       "0  love google chrome due easy access ability des...  \n",
       "1  point last couple months chrome gone nuts scro...  \n",
       "2  always used web browser never questioned howev...  \n",
       "3  rid white bar along side browser happen browse...  \n",
       "4  used browser years minimal problems everything...  "
      ]
     },
     "execution_count": 94,
     "metadata": {},
     "output_type": "execute_result"
    }
   ],
   "source": [
    "# Taking the stop words\n",
    "words = stopwords.words('english')\n",
    "print(words)\n",
    "\n",
    "# Removing the stop word \n",
    "reviewData['stop_word'] = reviewData['punctuation'].apply(lambda x: \" \".join(word for word in x.split() if word not in words))\n",
    "\n",
    "reviewData.head()\n"
   ]
  },
  {
   "cell_type": "markdown",
   "metadata": {},
   "source": [
    "### Counting the frequency of the words and make a and make a series dataframe of pandas"
   ]
  },
  {
   "cell_type": "code",
   "execution_count": 95,
   "metadata": {},
   "outputs": [
    {
     "data": {
      "text/plain": [
       "update      52831\n",
       "chrome      43523\n",
       "app         37418\n",
       "google      24604\n",
       "browser     16955\n",
       "phone       13277\n",
       "use         13121\n",
       "please      13059\n",
       "like        11570\n",
       "new         11336\n",
       "fix         11051\n",
       "time        10762\n",
       "even        10397\n",
       "good        10275\n",
       "open        10175\n",
       "tabs         9512\n",
       "tab          9487\n",
       "problem      8735\n",
       "get          8379\n",
       "download     8282\n",
       "search       7484\n",
       "one          7429\n",
       "work         7327\n",
       "still        7216\n",
       "working      7123\n",
       "back         7044\n",
       "using        6854\n",
       "version      6090\n",
       "apps         5946\n",
       "issue        5863\n",
       "really       5771\n",
       "updating     5744\n",
       "also         5713\n",
       "updated      5708\n",
       "every        5629\n",
       "many         5618\n",
       "since        5579\n",
       "want         5464\n",
       "page         5431\n",
       "last         5318\n",
       "tried        5157\n",
       "always       5072\n",
       "option       5066\n",
       "best         5060\n",
       "able         5047\n",
       "need         5001\n",
       "screen       4999\n",
       "updates      4995\n",
       "know         4949\n",
       "much         4917\n",
       "android      4889\n",
       "keeps        4857\n",
       "go           4839\n",
       "try          4801\n",
       "data         4698\n",
       "would        4470\n",
       "great        4458\n",
       "nothing      4333\n",
       "used         4329\n",
       "way          4286\n",
       "dtype: int64"
      ]
     },
     "execution_count": 95,
     "metadata": {},
     "output_type": "execute_result"
    }
   ],
   "source": [
    "# Conting the frequency of the words\n",
    "pd.Series(\" \".join(reviewData['stop_word']).split()).value_counts()[:60]"
   ]
  },
  {
   "cell_type": "markdown",
   "metadata": {},
   "source": [
    "### Removing the Other unwanted stop words"
   ]
  },
  {
   "cell_type": "code",
   "execution_count": 96,
   "metadata": {},
   "outputs": [
    {
     "data": {
      "text/html": [
       "<div>\n",
       "<style scoped>\n",
       "    .dataframe tbody tr th:only-of-type {\n",
       "        vertical-align: middle;\n",
       "    }\n",
       "\n",
       "    .dataframe tbody tr th {\n",
       "        vertical-align: top;\n",
       "    }\n",
       "\n",
       "    .dataframe thead th {\n",
       "        text-align: right;\n",
       "    }\n",
       "</style>\n",
       "<table border=\"1\" class=\"dataframe\">\n",
       "  <thead>\n",
       "    <tr style=\"text-align: right;\">\n",
       "      <th></th>\n",
       "      <th>Unnamed: 0</th>\n",
       "      <th>content</th>\n",
       "      <th>lowercase</th>\n",
       "      <th>punctuation</th>\n",
       "      <th>stop_word</th>\n",
       "      <th>ProcessedData</th>\n",
       "    </tr>\n",
       "  </thead>\n",
       "  <tbody>\n",
       "    <tr>\n",
       "      <th>0</th>\n",
       "      <td>0</td>\n",
       "      <td>I love Google Chrome due to it's easy access, ...</td>\n",
       "      <td>i love google chrome due to it's easy access, ...</td>\n",
       "      <td>i love google chrome due to it s easy access  ...</td>\n",
       "      <td>love google chrome due easy access ability go ...</td>\n",
       "      <td>love google chrome due easy access ability des...</td>\n",
       "    </tr>\n",
       "    <tr>\n",
       "      <th>1</th>\n",
       "      <td>1</td>\n",
       "      <td>At some point in the last couple of months, Ch...</td>\n",
       "      <td>at some point in the last couple of months, ch...</td>\n",
       "      <td>at some point in the last couple of months  ch...</td>\n",
       "      <td>point last couple months chrome gone nuts scro...</td>\n",
       "      <td>point last couple months chrome gone nuts scro...</td>\n",
       "    </tr>\n",
       "    <tr>\n",
       "      <th>2</th>\n",
       "      <td>2</td>\n",
       "      <td>I have always used this as my web browser. Nev...</td>\n",
       "      <td>i have always used this as my web browser. nev...</td>\n",
       "      <td>i have always used this as my web browser  nev...</td>\n",
       "      <td>always used web browser never questioned howev...</td>\n",
       "      <td>always used web browser never questioned howev...</td>\n",
       "    </tr>\n",
       "    <tr>\n",
       "      <th>3</th>\n",
       "      <td>3</td>\n",
       "      <td>Can't get rid of white bar along the right sid...</td>\n",
       "      <td>can't get rid of white bar along the right sid...</td>\n",
       "      <td>can t get rid of white bar along the right sid...</td>\n",
       "      <td>get rid white bar along right side browser hap...</td>\n",
       "      <td>rid white bar along side browser happen browse...</td>\n",
       "    </tr>\n",
       "    <tr>\n",
       "      <th>4</th>\n",
       "      <td>4</td>\n",
       "      <td>I've used this browser for years with minimal ...</td>\n",
       "      <td>i've used this browser for years with minimal ...</td>\n",
       "      <td>i ve used this browser for years with minimal ...</td>\n",
       "      <td>used browser years minimal problems everything...</td>\n",
       "      <td>used browser years minimal problems everything...</td>\n",
       "    </tr>\n",
       "  </tbody>\n",
       "</table>\n",
       "</div>"
      ],
      "text/plain": [
       "   Unnamed: 0                                            content  \\\n",
       "0           0  I love Google Chrome due to it's easy access, ...   \n",
       "1           1  At some point in the last couple of months, Ch...   \n",
       "2           2  I have always used this as my web browser. Nev...   \n",
       "3           3  Can't get rid of white bar along the right sid...   \n",
       "4           4  I've used this browser for years with minimal ...   \n",
       "\n",
       "                                           lowercase  \\\n",
       "0  i love google chrome due to it's easy access, ...   \n",
       "1  at some point in the last couple of months, ch...   \n",
       "2  i have always used this as my web browser. nev...   \n",
       "3  can't get rid of white bar along the right sid...   \n",
       "4  i've used this browser for years with minimal ...   \n",
       "\n",
       "                                         punctuation  \\\n",
       "0  i love google chrome due to it s easy access  ...   \n",
       "1  at some point in the last couple of months  ch...   \n",
       "2  i have always used this as my web browser  nev...   \n",
       "3  can t get rid of white bar along the right sid...   \n",
       "4  i ve used this browser for years with minimal ...   \n",
       "\n",
       "                                           stop_word  \\\n",
       "0  love google chrome due easy access ability go ...   \n",
       "1  point last couple months chrome gone nuts scro...   \n",
       "2  always used web browser never questioned howev...   \n",
       "3  get rid white bar along right side browser hap...   \n",
       "4  used browser years minimal problems everything...   \n",
       "\n",
       "                                       ProcessedData  \n",
       "0  love google chrome due easy access ability des...  \n",
       "1  point last couple months chrome gone nuts scro...  \n",
       "2  always used web browser never questioned howev...  \n",
       "3  rid white bar along side browser happen browse...  \n",
       "4  used browser years minimal problems everything...  "
      ]
     },
     "execution_count": 96,
     "metadata": {},
     "output_type": "execute_result"
    }
   ],
   "source": [
    "# make a list of the unwanted word\n",
    "unwanted_word = ['get','go','told','get','week','use','test','try','also','back','tab','tabs','right','left','one','even','also','go','asked']\n",
    "\n",
    "# remove unwanted word\n",
    "reviewData['ProcessedData']= reviewData['stop_word'].apply(lambda x: ' '.join(word for word in x.split() if word not in unwanted_word))\n",
    "\n",
    "reviewData.head()\n",
    "\n",
    "\n",
    "\n",
    "reviewData.head()"
   ]
  },
  {
   "cell_type": "markdown",
   "metadata": {},
   "source": [
    "# Step 3: Sentiment analysis of each review given by the user"
   ]
  },
  {
   "cell_type": "markdown",
   "metadata": {},
   "source": [
    "### Lemmatize the text"
   ]
  },
  {
   "cell_type": "code",
   "execution_count": 97,
   "metadata": {},
   "outputs": [
    {
     "name": "stdout",
     "output_type": "stream",
     "text": [
      "Requirement already satisfied: textblob in c:\\programdata\\anaconda3\\lib\\site-packages (0.17.1)\n",
      "Requirement already satisfied: nltk>=3.1 in c:\\programdata\\anaconda3\\lib\\site-packages (from textblob) (3.6.5)\n",
      "Requirement already satisfied: click in c:\\programdata\\anaconda3\\lib\\site-packages (from nltk>=3.1->textblob) (8.0.3)\n",
      "Requirement already satisfied: joblib in c:\\programdata\\anaconda3\\lib\\site-packages (from nltk>=3.1->textblob) (1.1.0)\n",
      "Requirement already satisfied: regex>=2021.8.3 in c:\\programdata\\anaconda3\\lib\\site-packages (from nltk>=3.1->textblob) (2021.8.3)\n",
      "Requirement already satisfied: tqdm in c:\\programdata\\anaconda3\\lib\\site-packages (from nltk>=3.1->textblob) (4.62.3)\n",
      "Requirement already satisfied: colorama in c:\\programdata\\anaconda3\\lib\\site-packages (from click->nltk>=3.1->textblob) (0.4.4)\n"
     ]
    }
   ],
   "source": [
    "# using the textblob library\n",
    "# installing the text blob library\n",
    "! pip install textblob"
   ]
  },
  {
   "cell_type": "code",
   "execution_count": 100,
   "metadata": {},
   "outputs": [
    {
     "data": {
      "text/html": [
       "<div>\n",
       "<style scoped>\n",
       "    .dataframe tbody tr th:only-of-type {\n",
       "        vertical-align: middle;\n",
       "    }\n",
       "\n",
       "    .dataframe tbody tr th {\n",
       "        vertical-align: top;\n",
       "    }\n",
       "\n",
       "    .dataframe thead th {\n",
       "        text-align: right;\n",
       "    }\n",
       "</style>\n",
       "<table border=\"1\" class=\"dataframe\">\n",
       "  <thead>\n",
       "    <tr style=\"text-align: right;\">\n",
       "      <th></th>\n",
       "      <th>Unnamed: 0</th>\n",
       "      <th>content</th>\n",
       "      <th>lowercase</th>\n",
       "      <th>punctuation</th>\n",
       "      <th>stop_word</th>\n",
       "      <th>ProcessedData</th>\n",
       "      <th>PrepareData</th>\n",
       "    </tr>\n",
       "  </thead>\n",
       "  <tbody>\n",
       "    <tr>\n",
       "      <th>0</th>\n",
       "      <td>0</td>\n",
       "      <td>I love Google Chrome due to it's easy access, ...</td>\n",
       "      <td>i love google chrome due to it's easy access, ...</td>\n",
       "      <td>i love google chrome due to it s easy access  ...</td>\n",
       "      <td>love google chrome due easy access ability go ...</td>\n",
       "      <td>love google chrome due easy access ability des...</td>\n",
       "      <td>love google chrome due easy access ability des...</td>\n",
       "    </tr>\n",
       "    <tr>\n",
       "      <th>1</th>\n",
       "      <td>1</td>\n",
       "      <td>At some point in the last couple of months, Ch...</td>\n",
       "      <td>at some point in the last couple of months, ch...</td>\n",
       "      <td>at some point in the last couple of months  ch...</td>\n",
       "      <td>point last couple months chrome gone nuts scro...</td>\n",
       "      <td>point last couple months chrome gone nuts scro...</td>\n",
       "      <td>point last couple month chrome gone nut scroll...</td>\n",
       "    </tr>\n",
       "    <tr>\n",
       "      <th>2</th>\n",
       "      <td>2</td>\n",
       "      <td>I have always used this as my web browser. Nev...</td>\n",
       "      <td>i have always used this as my web browser. nev...</td>\n",
       "      <td>i have always used this as my web browser  nev...</td>\n",
       "      <td>always used web browser never questioned howev...</td>\n",
       "      <td>always used web browser never questioned howev...</td>\n",
       "      <td>always used web browser never questioned howev...</td>\n",
       "    </tr>\n",
       "    <tr>\n",
       "      <th>3</th>\n",
       "      <td>3</td>\n",
       "      <td>Can't get rid of white bar along the right sid...</td>\n",
       "      <td>can't get rid of white bar along the right sid...</td>\n",
       "      <td>can t get rid of white bar along the right sid...</td>\n",
       "      <td>get rid white bar along right side browser hap...</td>\n",
       "      <td>rid white bar along side browser happen browse...</td>\n",
       "      <td>rid white bar along side browser happen browse...</td>\n",
       "    </tr>\n",
       "    <tr>\n",
       "      <th>4</th>\n",
       "      <td>4</td>\n",
       "      <td>I've used this browser for years with minimal ...</td>\n",
       "      <td>i've used this browser for years with minimal ...</td>\n",
       "      <td>i ve used this browser for years with minimal ...</td>\n",
       "      <td>used browser years minimal problems everything...</td>\n",
       "      <td>used browser years minimal problems everything...</td>\n",
       "      <td>used browser year minimal problem everything f...</td>\n",
       "    </tr>\n",
       "  </tbody>\n",
       "</table>\n",
       "</div>"
      ],
      "text/plain": [
       "   Unnamed: 0                                            content  \\\n",
       "0           0  I love Google Chrome due to it's easy access, ...   \n",
       "1           1  At some point in the last couple of months, Ch...   \n",
       "2           2  I have always used this as my web browser. Nev...   \n",
       "3           3  Can't get rid of white bar along the right sid...   \n",
       "4           4  I've used this browser for years with minimal ...   \n",
       "\n",
       "                                           lowercase  \\\n",
       "0  i love google chrome due to it's easy access, ...   \n",
       "1  at some point in the last couple of months, ch...   \n",
       "2  i have always used this as my web browser. nev...   \n",
       "3  can't get rid of white bar along the right sid...   \n",
       "4  i've used this browser for years with minimal ...   \n",
       "\n",
       "                                         punctuation  \\\n",
       "0  i love google chrome due to it s easy access  ...   \n",
       "1  at some point in the last couple of months  ch...   \n",
       "2  i have always used this as my web browser  nev...   \n",
       "3  can t get rid of white bar along the right sid...   \n",
       "4  i ve used this browser for years with minimal ...   \n",
       "\n",
       "                                           stop_word  \\\n",
       "0  love google chrome due easy access ability go ...   \n",
       "1  point last couple months chrome gone nuts scro...   \n",
       "2  always used web browser never questioned howev...   \n",
       "3  get rid white bar along right side browser hap...   \n",
       "4  used browser years minimal problems everything...   \n",
       "\n",
       "                                       ProcessedData  \\\n",
       "0  love google chrome due easy access ability des...   \n",
       "1  point last couple months chrome gone nuts scro...   \n",
       "2  always used web browser never questioned howev...   \n",
       "3  rid white bar along side browser happen browse...   \n",
       "4  used browser years minimal problems everything...   \n",
       "\n",
       "                                         PrepareData  \n",
       "0  love google chrome due easy access ability des...  \n",
       "1  point last couple month chrome gone nut scroll...  \n",
       "2  always used web browser never questioned howev...  \n",
       "3  rid white bar along side browser happen browse...  \n",
       "4  used browser year minimal problem everything f...  "
      ]
     },
     "execution_count": 100,
     "metadata": {},
     "output_type": "execute_result"
    }
   ],
   "source": [
    "# import the library and package\n",
    "from textblob import Word\n",
    "\n",
    "# Lemmatize the text \n",
    "reviewData['PrepareData']= reviewData['ProcessedData'].apply(lambda x: ' '.join(Word(word).lemmatize() for word in x.split()))\n",
    "reviewData.head()"
   ]
  },
  {
   "cell_type": "markdown",
   "metadata": {},
   "source": [
    "### Calculating the sentiment of the reviews "
   ]
  },
  {
   "cell_type": "code",
   "execution_count": 105,
   "metadata": {},
   "outputs": [],
   "source": [
    "#import the package Textblob\n",
    "from textblob import TextBlob\n",
    "\n",
    "#calculating the polarity of the reviews\n",
    "\n",
    "reviewData['Polarity'] = reviewData['PrepareData'].apply(lambda x: TextBlob(x).sentiment[0])\n",
    "\n",
    "# calculating the subjectivity of the reviews\n",
    "\n",
    "reviewData['Subjectivity'] = reviewData['PrepareData'].apply(lambda x: TextBlob(x).sentiment[1])\n",
    "\n",
    "reviewData.head()\n",
    "\n",
    "reData = pd.DataFrame(columns=['Content','ProcessedData','Polarity','Subjectivity'], data=reviewData[['content','PrepareData','Polarity','Subjectivity']].values)"
   ]
  },
  {
   "cell_type": "markdown",
   "metadata": {},
   "source": [
    "# Step 4: Result Observation"
   ]
  },
  {
   "cell_type": "code",
   "execution_count": 109,
   "metadata": {},
   "outputs": [],
   "source": [
    "#Storing the resulted data in a file \n",
    "reData.to_csv('ResultData.csv',index=True)\n",
    "\n",
    "#taking data from ResultData.csv file to observe the result\n",
    "\n",
    "observable = pd.read_csv('ResultData.csv')\n"
   ]
  },
  {
   "cell_type": "markdown",
   "metadata": {},
   "source": [
    "###  Observing the Polarity of the reviews"
   ]
  },
  {
   "cell_type": "code",
   "execution_count": 118,
   "metadata": {},
   "outputs": [
    {
     "name": "stdout",
     "output_type": "stream",
     "text": [
      "\n",
      "\n",
      "The number of reviews that have positive polarity =  52364\n",
      "The number of reviews that have negative polarity =  28768\n",
      "The number of reviews that have neutral polarity =  18868\n",
      "\n",
      "\n",
      "The percentage of the review that has positive polarity is =  52.364\n",
      "The percentage of the review that has negative polarity is =  28.768\n",
      "The percentage of the review that has neutral polarity is =  18.868\n"
     ]
    }
   ],
   "source": [
    "limit = 0\n",
    "\n",
    "clname = 'Polarity'\n",
    "\n",
    "plcol = observable[clname]\n",
    "\n",
    "#classifying the polarity\n",
    "polpositive = plcol[plcol > limit].count()\n",
    "polnegative = plcol[plcol < limit].count()\n",
    "polneutral = plcol[plcol == limit].count()\n",
    "\n",
    "poltotal = polpositive + polnegative + polneutral\n",
    "\n",
    "polpos = (polpositive/poltotal)*100\n",
    "polneg = (polnegative/poltotal)*100\n",
    "polneu = (polneutral/poltotal)*100\n",
    "\n",
    "print('\\n')\n",
    "print('The number of reviews that have positive polarity = ', polpositive)\n",
    "print('The number of reviews that have negative polarity = ', polnegative)\n",
    "print('The number of reviews that have neutral polarity = ', polneutral)\n",
    "print('\\n')\n",
    "print('The percentage of the review that has positive polarity is = ',polpos)\n",
    "print('The percentage of the review that has negative polarity is = ',polneg)\n",
    "print('The percentage of the review that has neutral polarity is = ',polneu)"
   ]
  },
  {
   "cell_type": "markdown",
   "metadata": {},
   "source": [
    "### Observing the Subjectivity of the reviews\n"
   ]
  },
  {
   "cell_type": "code",
   "execution_count": 119,
   "metadata": {},
   "outputs": [
    {
     "name": "stdout",
     "output_type": "stream",
     "text": [
      "The number of reviews that have Positive Subjectivity is =  86789\n",
      "The number of reviews that have Negative Subjectivity is =  0\n",
      "The number of reviews that have Neutral Subjectivity is =  13211\n",
      "\n",
      "\n",
      "The percentage of the reviews that have positive subjectivity is =  86.789\n",
      "The percentage of the reviews that have negative subjectivity is =  0.0\n",
      "The percentage of the reviews that have neutral subjectivity is =  13.211\n"
     ]
    }
   ],
   "source": [
    "\n",
    "newcl = 'Subjectivity'\n",
    "\n",
    "subcol = observable[newcl]\n",
    "\n",
    "#classification of subjectivity\n",
    "subpos = subcol[subcol > limit].count()\n",
    "subneg = subcol[subcol < limit].count()\n",
    "subneu = subcol[subcol == limit].count()\n",
    "\n",
    "total = subpos + subneg + subneu\n",
    "\n",
    "perpos = (subpos/total)*100\n",
    "perneg = (subneg/total)*100\n",
    "perneu = (subneu/total)*100\n",
    "\n",
    "print(\"The number of reviews that have Positive Subjectivity is = \", subpos)\n",
    "print(\"The number of reviews that have Negative Subjectivity is = \", subneg)\n",
    "print(\"The number of reviews that have Neutral Subjectivity is = \", subneu)\n",
    "\n",
    "print('\\n')\n",
    "\n",
    "print(\"The percentage of the reviews that have positive subjectivity is = \", perpos)\n",
    "print(\"The percentage of the reviews that have negative subjectivity is = \", perneg)\n",
    "print(\"The percentage of the reviews that have neutral subjectivity is = \", perneu)"
   ]
  },
  {
   "cell_type": "code",
   "execution_count": null,
   "metadata": {},
   "outputs": [],
   "source": []
  },
  {
   "cell_type": "code",
   "execution_count": null,
   "metadata": {},
   "outputs": [],
   "source": []
  }
 ],
 "metadata": {
  "colab": {
   "collapsed_sections": [
    "sh76we2YbpMG",
    "GKXTKrQucDXi"
   ],
   "name": "extractdata.ipynb",
   "provenance": [],
   "toc_visible": true
  },
  "kernelspec": {
   "display_name": "Python 3 (ipykernel)",
   "language": "python",
   "name": "python3"
  },
  "language_info": {
   "codemirror_mode": {
    "name": "ipython",
    "version": 3
   },
   "file_extension": ".py",
   "mimetype": "text/x-python",
   "name": "python",
   "nbconvert_exporter": "python",
   "pygments_lexer": "ipython3",
   "version": "3.9.7"
  }
 },
 "nbformat": 4,
 "nbformat_minor": 1
}
